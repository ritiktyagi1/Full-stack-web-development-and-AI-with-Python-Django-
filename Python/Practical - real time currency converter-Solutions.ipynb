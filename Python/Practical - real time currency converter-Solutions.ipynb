{
 "cells": [
  {
   "cell_type": "code",
   "execution_count": null,
   "metadata": {},
   "outputs": [],
   "source": [
    "'''\n",
    "- Find a working API where we can access currencies (preferably with USD as the base currency) **important: the API must provide a json **\n",
    "============== TICK ===========================\n",
    "- Create a programme that can take a users currency and amount, and convert it into USD ========== TICK =================\n",
    "\n",
    "'''"
   ]
  },
  {
   "cell_type": "code",
   "execution_count": 7,
   "metadata": {},
   "outputs": [],
   "source": [
    "import requests"
   ]
  },
  {
   "cell_type": "code",
   "execution_count": 8,
   "metadata": {},
   "outputs": [
    {
     "data": {
      "text/plain": [
       "<Response [200]>"
      ]
     },
     "execution_count": 8,
     "metadata": {},
     "output_type": "execute_result"
    }
   ],
   "source": [
    "requests.get('https://api.exchangerate-api.com/v4/latest/USD')"
   ]
  },
  {
   "cell_type": "code",
   "execution_count": 9,
   "metadata": {},
   "outputs": [],
   "source": [
    "response = requests.get('https://api.exchangerate-api.com/v4/latest/USD')"
   ]
  },
  {
   "cell_type": "code",
   "execution_count": 11,
   "metadata": {},
   "outputs": [],
   "source": [
    "currency_data = response.json()"
   ]
  },
  {
   "cell_type": "code",
   "execution_count": 12,
   "metadata": {},
   "outputs": [
    {
     "name": "stdout",
     "output_type": "stream",
     "text": [
      "{'base': 'USD', 'date': '2019-07-29', 'time_last_updated': 1564359050, 'rates': {'USD': 1, 'AED': 3.672027, 'ARS': 43.385, 'AUD': 1.443307, 'BGN': 1.756115, 'BRL': 3.775876, 'BSD': 1, 'CAD': 1.316995, 'CHF': 0.992083, 'CLP': 695.945169, 'CNY': 6.877323, 'COP': 3155.272727, 'CZK': 22.922929, 'DKK': 6.700093, 'DOP': 50.705625, 'EGP': 16.527619, 'EUR': 0.897743, 'FJD': 2.1505, 'GBP': 0.80466, 'GTQ': 7.662656, 'HKD': 7.816881, 'HRK': 6.630458, 'HUF': 292.908214, 'IDR': 13987.048212, 'ILS': 3.521426, 'INR': 68.953244, 'ISK': 121.816101, 'JPY': 108.643771, 'KRW': 1182.59993, 'KZT': 383.513812, 'MXN': 19.042811, 'MYR': 4.118881, 'NOK': 8.698752, 'NZD': 1.504148, 'PAB': 1, 'PEN': 3.297305, 'PHP': 51.029744, 'PKR': 160.314088, 'PLN': 3.825943, 'PYG': 5784.666667, 'RON': 4.242905, 'RUB': 63.153398, 'SAR': 3.750258, 'SEK': 9.477787, 'SGD': 1.368068, 'THB': 30.911135, 'TRY': 5.655876, 'TWD': 31.088144, 'UAH': 25.40884, 'UYU': 34.127827, 'VND': 23126.315789, 'ZAR': 14.164764}}\n"
     ]
    }
   ],
   "source": [
    "print(currency_data)"
   ]
  },
  {
   "cell_type": "code",
   "execution_count": 16,
   "metadata": {},
   "outputs": [
    {
     "data": {
      "text/plain": [
       "3.672027"
      ]
     },
     "execution_count": 16,
     "metadata": {},
     "output_type": "execute_result"
    }
   ],
   "source": [
    "currency_data['rates']['AED']"
   ]
  },
  {
   "cell_type": "code",
   "execution_count": 20,
   "metadata": {},
   "outputs": [
    {
     "name": "stdout",
     "output_type": "stream",
     "text": [
      "Welcome to the best currency converter ever!!\n",
      "Please enter the currency that you would like to use: JPY\n",
      "Please enter the amount to convert into USD: 100\n",
      "You have 100 in JPY. That is 10864.3771 USD\n"
     ]
    }
   ],
   "source": [
    "print('Welcome to the best currency converter ever!!')\n",
    "user_currency = input('Please enter the currency that you would like to use: ').upper()\n",
    "user_amount = int(input('Please enter the amount to convert into USD: '))\n",
    "\n",
    "amount_in_usd = currency_data['rates'][user_currency] * user_amount\n",
    "\n",
    "print('You have {} in {}. That is {} USD'.format(user_amount, user_currency, amount_in_usd))"
   ]
  },
  {
   "cell_type": "code",
   "execution_count": null,
   "metadata": {},
   "outputs": [],
   "source": []
  }
 ],
 "metadata": {
  "kernelspec": {
   "display_name": "Python 3",
   "language": "python",
   "name": "python3"
  },
  "language_info": {
   "codemirror_mode": {
    "name": "ipython",
    "version": 3
   },
   "file_extension": ".py",
   "mimetype": "text/x-python",
   "name": "python",
   "nbconvert_exporter": "python",
   "pygments_lexer": "ipython3",
   "version": "3.6.10"
  }
 },
 "nbformat": 4,
 "nbformat_minor": 2
}
