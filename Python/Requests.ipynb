{
 "cells": [
  {
   "cell_type": "code",
   "execution_count": null,
   "metadata": {},
   "outputs": [],
   "source": [
    "'''\n",
    "REQUESTS\n",
    "\n",
    "http requests - GET  POST\n",
    "\n",
    "- Install requests - pip install requests, conda install requests\n",
    "- Import\n",
    "- .get\n",
    "- status codes\n",
    "- .content\n",
    "- .json() - 'https://api.exchangerate-api.com/v4/latest/USD'\n",
    "- Json files. Getting the info you need\n",
    "- Finding APIs (Application Programming Interface)\n",
    "\n",
    "'''"
   ]
  },
  {
   "cell_type": "code",
   "execution_count": 1,
   "metadata": {},
   "outputs": [],
   "source": [
    "import requests"
   ]
  },
  {
   "cell_type": "code",
   "execution_count": 5,
   "metadata": {},
   "outputs": [
    {
     "data": {
      "text/plain": [
       "<Response [200]>"
      ]
     },
     "execution_count": 5,
     "metadata": {},
     "output_type": "execute_result"
    }
   ],
   "source": [
    "url = 'http://www.ecosia.com'\n",
    "\n",
    "requests.get(url)"
   ]
  },
  {
   "cell_type": "code",
   "execution_count": 7,
   "metadata": {},
   "outputs": [],
   "source": [
    "response = requests.get(url)"
   ]
  },
  {
   "cell_type": "code",
   "execution_count": 9,
   "metadata": {},
   "outputs": [],
   "source": [
    "#response.content"
   ]
  },
  {
   "cell_type": "code",
   "execution_count": 12,
   "metadata": {},
   "outputs": [],
   "source": [
    "#.json\n",
    "\n",
    "myJson = {'John':30, 'Adrian':29, 'new':{'a':1,'b':2}}"
   ]
  },
  {
   "cell_type": "code",
   "execution_count": 15,
   "metadata": {},
   "outputs": [
    {
     "data": {
      "text/plain": [
       "30"
      ]
     },
     "execution_count": 15,
     "metadata": {},
     "output_type": "execute_result"
    }
   ],
   "source": [
    "myJson['John']"
   ]
  },
  {
   "cell_type": "code",
   "execution_count": 17,
   "metadata": {},
   "outputs": [
    {
     "data": {
      "text/plain": [
       "2"
      ]
     },
     "execution_count": 17,
     "metadata": {},
     "output_type": "execute_result"
    }
   ],
   "source": [
    "myJson['new']['b']"
   ]
  },
  {
   "cell_type": "code",
   "execution_count": 19,
   "metadata": {},
   "outputs": [],
   "source": [
    "currencyURL = 'https://api.exchangerate-api.com/v4/latest/USD'\n",
    "response = requests.get(currencyURL)"
   ]
  },
  {
   "cell_type": "code",
   "execution_count": 21,
   "metadata": {},
   "outputs": [],
   "source": [
    "data = response.json()"
   ]
  },
  {
   "cell_type": "code",
   "execution_count": 23,
   "metadata": {},
   "outputs": [
    {
     "data": {
      "text/plain": [
       "{'base': 'USD',\n",
       " 'date': '2019-07-29',\n",
       " 'time_last_updated': 1564359050,\n",
       " 'rates': {'USD': 1,\n",
       "  'AED': 3.672027,\n",
       "  'ARS': 43.385,\n",
       "  'AUD': 1.443307,\n",
       "  'BGN': 1.756115,\n",
       "  'BRL': 3.775876,\n",
       "  'BSD': 1,\n",
       "  'CAD': 1.316995,\n",
       "  'CHF': 0.992083,\n",
       "  'CLP': 695.945169,\n",
       "  'CNY': 6.877323,\n",
       "  'COP': 3155.272727,\n",
       "  'CZK': 22.922929,\n",
       "  'DKK': 6.700093,\n",
       "  'DOP': 50.705625,\n",
       "  'EGP': 16.527619,\n",
       "  'EUR': 0.897743,\n",
       "  'FJD': 2.1505,\n",
       "  'GBP': 0.80466,\n",
       "  'GTQ': 7.662656,\n",
       "  'HKD': 7.816881,\n",
       "  'HRK': 6.630458,\n",
       "  'HUF': 292.908214,\n",
       "  'IDR': 13987.048212,\n",
       "  'ILS': 3.521426,\n",
       "  'INR': 68.953244,\n",
       "  'ISK': 121.816101,\n",
       "  'JPY': 108.643771,\n",
       "  'KRW': 1182.59993,\n",
       "  'KZT': 383.513812,\n",
       "  'MXN': 19.042811,\n",
       "  'MYR': 4.118881,\n",
       "  'NOK': 8.698752,\n",
       "  'NZD': 1.504148,\n",
       "  'PAB': 1,\n",
       "  'PEN': 3.297305,\n",
       "  'PHP': 51.029744,\n",
       "  'PKR': 160.314088,\n",
       "  'PLN': 3.825943,\n",
       "  'PYG': 5784.666667,\n",
       "  'RON': 4.242905,\n",
       "  'RUB': 63.153398,\n",
       "  'SAR': 3.750258,\n",
       "  'SEK': 9.477787,\n",
       "  'SGD': 1.368068,\n",
       "  'THB': 30.911135,\n",
       "  'TRY': 5.655876,\n",
       "  'TWD': 31.088144,\n",
       "  'UAH': 25.40884,\n",
       "  'UYU': 34.127827,\n",
       "  'VND': 23126.315789,\n",
       "  'ZAR': 14.164764}}"
      ]
     },
     "execution_count": 23,
     "metadata": {},
     "output_type": "execute_result"
    }
   ],
   "source": [
    "data"
   ]
  },
  {
   "cell_type": "code",
   "execution_count": 24,
   "metadata": {},
   "outputs": [
    {
     "data": {
      "text/plain": [
       "7.816881"
      ]
     },
     "execution_count": 24,
     "metadata": {},
     "output_type": "execute_result"
    }
   ],
   "source": [
    "data['rates']['HKD']"
   ]
  },
  {
   "cell_type": "code",
   "execution_count": 27,
   "metadata": {},
   "outputs": [],
   "source": [
    "EUR = requests.get('http://jsonrates.com/get/?from=USD&to=EUR')"
   ]
  },
  {
   "cell_type": "code",
   "execution_count": 28,
   "metadata": {},
   "outputs": [
    {
     "data": {
      "text/plain": [
       "{'error': 'API access has been disabled. To continue using the API, please sign up at www.currencylayer.com'}"
      ]
     },
     "execution_count": 28,
     "metadata": {},
     "output_type": "execute_result"
    }
   ],
   "source": [
    "EUR.json()"
   ]
  },
  {
   "cell_type": "code",
   "execution_count": null,
   "metadata": {},
   "outputs": [],
   "source": []
  }
 ],
 "metadata": {
  "kernelspec": {
   "display_name": "Python 3",
   "language": "python",
   "name": "python3"
  },
  "language_info": {
   "codemirror_mode": {
    "name": "ipython",
    "version": 3
   },
   "file_extension": ".py",
   "mimetype": "text/x-python",
   "name": "python",
   "nbconvert_exporter": "python",
   "pygments_lexer": "ipython3",
   "version": "3.6.10"
  }
 },
 "nbformat": 4,
 "nbformat_minor": 2
}
