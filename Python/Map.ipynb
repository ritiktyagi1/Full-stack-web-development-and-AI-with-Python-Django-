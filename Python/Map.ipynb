{
 "cells": [
  {
   "cell_type": "code",
   "execution_count": null,
   "metadata": {},
   "outputs": [],
   "source": [
    "'''\n",
    "- Map using normal functions\n",
    "- Map using lambda\n",
    "- Map using lambda, multiple inputs\n",
    "\n",
    "'''"
   ]
  },
  {
   "cell_type": "code",
   "execution_count": 12,
   "metadata": {},
   "outputs": [],
   "source": []
  },
  {
   "cell_type": "code",
   "execution_count": 1,
   "metadata": {},
   "outputs": [
    {
     "data": {
      "text/plain": [
       "[0.2, 2.0, 20.0, 200.0, 400.0]"
      ]
     },
     "execution_count": 1,
     "metadata": {},
     "output_type": "execute_result"
    }
   ],
   "source": [
    "list_of_nums = [1,10,100,1000,2000]\n",
    "list_of_large_nums = []\n",
    "\n",
    "def divider(x):\n",
    "    y = x/5\n",
    "    return y\n",
    "\n",
    "list_of_large_nums = list(map(divider, list_of_nums))\n",
    "list_of_large_nums"
   ]
  },
  {
   "cell_type": "code",
   "execution_count": null,
   "metadata": {},
   "outputs": [],
   "source": []
  },
  {
   "cell_type": "code",
   "execution_count": 2,
   "metadata": {},
   "outputs": [
    {
     "data": {
      "text/plain": [
       "[10, 11, 12, 13, 14, 15]"
      ]
     },
     "execution_count": 2,
     "metadata": {},
     "output_type": "execute_result"
    }
   ],
   "source": [
    "old_nums = [1,2,3,4,5,6]\n",
    "new_nums = list(map(lambda x: x+9, old_nums))\n",
    "new_nums"
   ]
  },
  {
   "cell_type": "code",
   "execution_count": 3,
   "metadata": {},
   "outputs": [
    {
     "name": "stdout",
     "output_type": "stream",
     "text": [
      "(2000, 4000, 6000, 8000, 10000)\n"
     ]
    }
   ],
   "source": [
    "num_tuple = (2,4,6,8,10)\n",
    "new_tuple = tuple(map(lambda num: num*1000, num_tuple))\n",
    "print(new_tuple)"
   ]
  },
  {
   "cell_type": "code",
   "execution_count": 4,
   "metadata": {},
   "outputs": [
    {
     "name": "stdout",
     "output_type": "stream",
     "text": [
      "[301, 402, 503, 604, 705]\n"
     ]
    }
   ],
   "source": [
    "list_one = [1,2,3,4,5]\n",
    "list_two = [300,400,500,600, 700]\n",
    "\n",
    "list_three = list(map(lambda x, y: x+y, list_one, list_two))\n",
    "print(list_three)"
   ]
  },
  {
   "cell_type": "code",
   "execution_count": null,
   "metadata": {},
   "outputs": [],
   "source": []
  }
 ],
 "metadata": {
  "kernelspec": {
   "display_name": "Python 3",
   "language": "python",
   "name": "python3"
  },
  "language_info": {
   "codemirror_mode": {
    "name": "ipython",
    "version": 3
   },
   "file_extension": ".py",
   "mimetype": "text/x-python",
   "name": "python",
   "nbconvert_exporter": "python",
   "pygments_lexer": "ipython3",
   "version": "3.6.10"
  }
 },
 "nbformat": 4,
 "nbformat_minor": 2
}
