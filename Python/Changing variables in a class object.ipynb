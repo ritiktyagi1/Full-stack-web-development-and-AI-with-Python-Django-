{
 "cells": [
  {
   "cell_type": "code",
   "execution_count": 22,
   "metadata": {},
   "outputs": [],
   "source": [
    "class Person:\n",
    "    def __init__(self, age):\n",
    "        self.age = age\n",
    "        \n",
    "    def plus_year(self):\n",
    "        self.age += 1\n",
    "        \n",
    "    def show_age(self):\n",
    "        print(\"Your age is {}\".format(self.age))"
   ]
  },
  {
   "cell_type": "code",
   "execution_count": 23,
   "metadata": {},
   "outputs": [],
   "source": [
    "me = Person(100)"
   ]
  },
  {
   "cell_type": "code",
   "execution_count": 28,
   "metadata": {},
   "outputs": [
    {
     "name": "stdout",
     "output_type": "stream",
     "text": [
      "Your age is 102\n"
     ]
    }
   ],
   "source": [
    "me.show_age()"
   ]
  },
  {
   "cell_type": "code",
   "execution_count": 27,
   "metadata": {},
   "outputs": [],
   "source": [
    "me.plus_year()"
   ]
  },
  {
   "cell_type": "code",
   "execution_count": 45,
   "metadata": {},
   "outputs": [],
   "source": [
    "class Warrior:\n",
    "    def __init__(self, name, strength, health):\n",
    "        self.name = name\n",
    "        self.strength = strength\n",
    "        self.health = health\n",
    "        \n",
    "    def report(self):\n",
    "        print(\"Hi {}. Your strength is: {} and your health is: {}\".format(self.name, self.strength, self.health))\n",
    "        \n",
    "    def heal(self):\n",
    "        self.health += 1\n",
    "    \n",
    "    def damage(self, dmg_amount):\n",
    "        self.health -= dmg_amount\n",
    "        \n",
    "    def workout(self):\n",
    "        self.strength += 1"
   ]
  },
  {
   "cell_type": "code",
   "execution_count": 46,
   "metadata": {},
   "outputs": [],
   "source": [
    "warrior_one = Warrior('Reginald the warrior', 10, 100)"
   ]
  },
  {
   "cell_type": "code",
   "execution_count": 47,
   "metadata": {},
   "outputs": [
    {
     "data": {
      "text/plain": [
       "'Reginald the warrior'"
      ]
     },
     "execution_count": 47,
     "metadata": {},
     "output_type": "execute_result"
    }
   ],
   "source": [
    "warrior_one.name"
   ]
  },
  {
   "cell_type": "code",
   "execution_count": 52,
   "metadata": {},
   "outputs": [
    {
     "name": "stdout",
     "output_type": "stream",
     "text": [
      "Hi Reginald the warrior. Your strength is: 10 and your health is: 1\n"
     ]
    }
   ],
   "source": [
    "warrior_one.report()"
   ]
  },
  {
   "cell_type": "code",
   "execution_count": 51,
   "metadata": {},
   "outputs": [],
   "source": [
    "warrior_one.damage(79)"
   ]
  },
  {
   "cell_type": "code",
   "execution_count": null,
   "metadata": {},
   "outputs": [],
   "source": []
  }
 ],
 "metadata": {
  "kernelspec": {
   "display_name": "Python 3",
   "language": "python",
   "name": "python3"
  },
  "language_info": {
   "codemirror_mode": {
    "name": "ipython",
    "version": 3
   },
   "file_extension": ".py",
   "mimetype": "text/x-python",
   "name": "python",
   "nbconvert_exporter": "python",
   "pygments_lexer": "ipython3",
   "version": "3.7.4"
  }
 },
 "nbformat": 4,
 "nbformat_minor": 2
}
