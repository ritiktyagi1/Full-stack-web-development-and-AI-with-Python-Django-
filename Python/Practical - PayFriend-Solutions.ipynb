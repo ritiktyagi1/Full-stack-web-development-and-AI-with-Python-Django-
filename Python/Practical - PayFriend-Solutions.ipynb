{
 "cells": [
  {
   "cell_type": "code",
   "execution_count": null,
   "metadata": {},
   "outputs": [],
   "source": [
    "'''\n",
    "- Create an online bank where:\n",
    "- User can create new accounts that include - Account type (current, savings, etc), name of account holder, account balance, etc  TICK ===========\n",
    "- User can withdraw money, deposit, or check balance TICK =========================\n",
    "'''"
   ]
  },
  {
   "cell_type": "code",
   "execution_count": 12,
   "metadata": {},
   "outputs": [],
   "source": [
    "class Bank:\n",
    "    def __init__(self, account_type, name, amount):\n",
    "        self.account_type = account_type\n",
    "        self.name = name\n",
    "        self.amount = amount\n",
    "        \n",
    "    def check_balance(self):\n",
    "        print('Your balance is: {}'.format(self.amount))\n",
    "        \n",
    "    def deposit(self, deposit_amount):\n",
    "        self.amount += deposit_amount\n",
    "        \n",
    "    def withdraw(self, withdrawal_amount):\n",
    "        self.amount -= withdrawal_amount\n",
    "    "
   ]
  },
  {
   "cell_type": "code",
   "execution_count": 21,
   "metadata": {},
   "outputs": [],
   "source": [
    "john_account = Bank('Current', 'John Harper', 500)\n",
    "jim_account = Bank('Savings', 'Jim Jim Jim', 10)"
   ]
  },
  {
   "cell_type": "code",
   "execution_count": 7,
   "metadata": {},
   "outputs": [
    {
     "data": {
      "text/plain": [
       "500"
      ]
     },
     "execution_count": 7,
     "metadata": {},
     "output_type": "execute_result"
    }
   ],
   "source": [
    "john_account.amount"
   ]
  },
  {
   "cell_type": "code",
   "execution_count": 30,
   "metadata": {},
   "outputs": [
    {
     "name": "stdout",
     "output_type": "stream",
     "text": [
      "Your balance is: 4\n"
     ]
    }
   ],
   "source": [
    "jim_account.check_balance()"
   ]
  },
  {
   "cell_type": "code",
   "execution_count": 29,
   "metadata": {},
   "outputs": [],
   "source": [
    "jim_account.deposit(50)"
   ]
  },
  {
   "cell_type": "code",
   "execution_count": null,
   "metadata": {},
   "outputs": [],
   "source": [
    "print('Welcome to the PayFriend bank')\n",
    "user_choice = input('Would you like to create an account? ')\n",
    "if user_choice == 'y':\n",
    "    "
   ]
  }
 ],
 "metadata": {
  "kernelspec": {
   "display_name": "Python 3",
   "language": "python",
   "name": "python3"
  },
  "language_info": {
   "codemirror_mode": {
    "name": "ipython",
    "version": 3
   },
   "file_extension": ".py",
   "mimetype": "text/x-python",
   "name": "python",
   "nbconvert_exporter": "python",
   "pygments_lexer": "ipython3",
   "version": "3.7.4"
  }
 },
 "nbformat": 4,
 "nbformat_minor": 2
}
